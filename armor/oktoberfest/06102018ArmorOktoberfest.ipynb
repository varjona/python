{
 "cells": [
  {
   "cell_type": "markdown",
   "metadata": {},
   "source": [
    "# Imports"
   ]
  },
  {
   "cell_type": "code",
   "execution_count": 1,
   "metadata": {},
   "outputs": [],
   "source": [
    "import matplotlib.pyplot as plt\n",
    "import pandas as pd"
   ]
  },
  {
   "cell_type": "markdown",
   "metadata": {},
   "source": [
    "# Helper functions"
   ]
  },
  {
   "cell_type": "code",
   "execution_count": 2,
   "metadata": {},
   "outputs": [],
   "source": [
    "def TimeTransformation(tm):\n",
    "    return float(tm.hour) + float(tm.minute)/60.0\n",
    "\n",
    "\n",
    "def TimeTransformationList(tm_list):\n",
    "    lst_to_rtrn = []\n",
    "    tms = list(tm_list.tStamp)\n",
    "    qtys = list(tm_list.qty)\n",
    "    for idx in range(len(tms)):\n",
    "        tm = TimeTransformation(tms[idx])\n",
    "        for q in range(qtys[idx]):\n",
    "            lst_to_rtrn.append(tm)\n",
    "    return lst_to_rtrn"
   ]
  },
  {
   "cell_type": "markdown",
   "metadata": {},
   "source": [
    "# Create a dataframe with Pandas"
   ]
  },
  {
   "cell_type": "code",
   "execution_count": 3,
   "metadata": {},
   "outputs": [],
   "source": [
    "fl = \"../../../data/ArmorOktoberfest.csv\"\n",
    "data = pd.read_csv(fl, index_col=False)"
   ]
  },
  {
   "cell_type": "markdown",
   "metadata": {},
   "source": [
    "## What's inside this dataframe?"
   ]
  },
  {
   "cell_type": "code",
   "execution_count": 4,
   "metadata": {},
   "outputs": [
    {
     "data": {
      "text/html": [
       "<div>\n",
       "<style scoped>\n",
       "    .dataframe tbody tr th:only-of-type {\n",
       "        vertical-align: middle;\n",
       "    }\n",
       "\n",
       "    .dataframe tbody tr th {\n",
       "        vertical-align: top;\n",
       "    }\n",
       "\n",
       "    .dataframe thead th {\n",
       "        text-align: right;\n",
       "    }\n",
       "</style>\n",
       "<table border=\"1\" class=\"dataframe\">\n",
       "  <thead>\n",
       "    <tr style=\"text-align: right;\">\n",
       "      <th></th>\n",
       "      <th>tStamp</th>\n",
       "      <th>bType</th>\n",
       "      <th>qty</th>\n",
       "    </tr>\n",
       "  </thead>\n",
       "  <tbody>\n",
       "    <tr>\n",
       "      <th>203</th>\n",
       "      <td>10/6/2018 23:34:26</td>\n",
       "      <td>Kolsch 12oz</td>\n",
       "      <td>2</td>\n",
       "    </tr>\n",
       "    <tr>\n",
       "      <th>204</th>\n",
       "      <td>10/6/2018 23:34:36</td>\n",
       "      <td>IPA 12oz</td>\n",
       "      <td>1</td>\n",
       "    </tr>\n",
       "    <tr>\n",
       "      <th>205</th>\n",
       "      <td>10/6/2018 23:37:57</td>\n",
       "      <td>Stout 12oz</td>\n",
       "      <td>2</td>\n",
       "    </tr>\n",
       "    <tr>\n",
       "      <th>206</th>\n",
       "      <td>10/6/2018 23:39:58</td>\n",
       "      <td>Pumpkin Chai Ale 12oz</td>\n",
       "      <td>1</td>\n",
       "    </tr>\n",
       "    <tr>\n",
       "      <th>207</th>\n",
       "      <td>10/6/2018 23:41:41</td>\n",
       "      <td>Stout 12oz</td>\n",
       "      <td>2</td>\n",
       "    </tr>\n",
       "  </tbody>\n",
       "</table>\n",
       "</div>"
      ],
      "text/plain": [
       "                 tStamp                  bType  qty\n",
       "203  10/6/2018 23:34:26            Kolsch 12oz    2\n",
       "204  10/6/2018 23:34:36               IPA 12oz    1\n",
       "205  10/6/2018 23:37:57             Stout 12oz    2\n",
       "206  10/6/2018 23:39:58  Pumpkin Chai Ale 12oz    1\n",
       "207  10/6/2018 23:41:41             Stout 12oz    2"
      ]
     },
     "execution_count": 4,
     "metadata": {},
     "output_type": "execute_result"
    }
   ],
   "source": [
    "data.tail()"
   ]
  },
  {
   "cell_type": "markdown",
   "metadata": {},
   "source": [
    "# Clean data\n",
    "## Turn 'tStamp' to Pandas time "
   ]
  },
  {
   "cell_type": "code",
   "execution_count": 5,
   "metadata": {},
   "outputs": [
    {
     "data": {
      "text/plain": [
       "0      9/20/2018 21:18:05\n",
       "1      9/20/2018 21:18:13\n",
       "2      9/20/2018 21:18:22\n",
       "3      10/6/2018 13:11:24\n",
       "4      10/6/2018 13:14:09\n",
       "              ...        \n",
       "203    10/6/2018 23:34:26\n",
       "204    10/6/2018 23:34:36\n",
       "205    10/6/2018 23:37:57\n",
       "206    10/6/2018 23:39:58\n",
       "207    10/6/2018 23:41:41\n",
       "Name: tStamp, Length: 208, dtype: object"
      ]
     },
     "execution_count": 5,
     "metadata": {},
     "output_type": "execute_result"
    }
   ],
   "source": [
    "# Before\n",
    "data['tStamp']"
   ]
  },
  {
   "cell_type": "code",
   "execution_count": 6,
   "metadata": {},
   "outputs": [],
   "source": [
    "data.loc[:, 'tStamp'] = pd.to_datetime(data.tStamp)"
   ]
  },
  {
   "cell_type": "code",
   "execution_count": 7,
   "metadata": {},
   "outputs": [
    {
     "data": {
      "text/plain": [
       "0     2018-09-20 21:18:05\n",
       "1     2018-09-20 21:18:13\n",
       "2     2018-09-20 21:18:22\n",
       "3     2018-10-06 13:11:24\n",
       "4     2018-10-06 13:14:09\n",
       "              ...        \n",
       "203   2018-10-06 23:34:26\n",
       "204   2018-10-06 23:34:36\n",
       "205   2018-10-06 23:37:57\n",
       "206   2018-10-06 23:39:58\n",
       "207   2018-10-06 23:41:41\n",
       "Name: tStamp, Length: 208, dtype: datetime64[ns]"
      ]
     },
     "execution_count": 7,
     "metadata": {},
     "output_type": "execute_result"
    }
   ],
   "source": [
    "# After\n",
    "data['tStamp']"
   ]
  },
  {
   "cell_type": "markdown",
   "metadata": {},
   "source": [
    "## Get rid of everything that happened before 06OCT2018"
   ]
  },
  {
   "cell_type": "code",
   "execution_count": 8,
   "metadata": {},
   "outputs": [
    {
     "data": {
      "text/plain": [
       "208"
      ]
     },
     "execution_count": 8,
     "metadata": {},
     "output_type": "execute_result"
    }
   ],
   "source": [
    "# Before\n",
    "len(data)"
   ]
  },
  {
   "cell_type": "code",
   "execution_count": 9,
   "metadata": {},
   "outputs": [],
   "source": [
    "up_to_date = pd.to_datetime(\"2018/10/6 13:59:59\")\n",
    "mask = data.tStamp > up_to_date\n",
    "data = data.loc[mask, :]"
   ]
  },
  {
   "cell_type": "code",
   "execution_count": 10,
   "metadata": {},
   "outputs": [
    {
     "data": {
      "text/plain": [
       "200"
      ]
     },
     "execution_count": 10,
     "metadata": {},
     "output_type": "execute_result"
    }
   ],
   "source": [
    "# After\n",
    "len(data)"
   ]
  },
  {
   "cell_type": "markdown",
   "metadata": {},
   "source": [
    "## Clean up \"bType\""
   ]
  },
  {
   "cell_type": "code",
   "execution_count": null,
   "metadata": {},
   "outputs": [],
   "source": [
    "# Before\n",
    "len(data[data['bType'] == \"Blonde\"])"
   ]
  },
  {
   "cell_type": "code",
   "execution_count": null,
   "metadata": {},
   "outputs": [],
   "source": [
    "data.loc[data.bType == \"Blonde\", \"bType\"] = \"Blonde 12oz\""
   ]
  },
  {
   "cell_type": "code",
   "execution_count": null,
   "metadata": {},
   "outputs": [],
   "source": [
    "# After\n",
    "len(data[data['bType'] == \"Blonde\"])"
   ]
  },
  {
   "cell_type": "markdown",
   "metadata": {},
   "source": [
    "# Compile graph info\n",
    "## List of beers"
   ]
  },
  {
   "cell_type": "code",
   "execution_count": null,
   "metadata": {},
   "outputs": [],
   "source": [
    "b_type_vals = list(set(data.bType))"
   ]
  },
  {
   "cell_type": "markdown",
   "metadata": {},
   "source": [
    "## Make list of all sales"
   ]
  },
  {
   "cell_type": "code",
   "execution_count": null,
   "metadata": {},
   "outputs": [],
   "source": [
    "all_sales = []\n",
    "tStamp_n_qty = data.loc[:, [\"tStamp\", \"qty\"]]\n",
    "\n",
    "for idx in range(len(tStamp_n_qty)):\n",
    "    t = TimeTransformation(tStamp_n_qty.tStamp.iloc[idx])\n",
    "    for ii in range(tStamp_n_qty.qty.iloc[idx]):\n",
    "        all_sales.append(t)\n",
    "\n",
    "len_all_sales = len(all_sales)"
   ]
  },
  {
   "cell_type": "markdown",
   "metadata": {},
   "source": [
    "### What's in \"all_sales\"?\n",
    "#### If there were 3 purchases at 2:30pm, then there would be 3 elements in \"all_sales\" with the value 14.5"
   ]
  },
  {
   "cell_type": "code",
   "execution_count": null,
   "metadata": {},
   "outputs": [],
   "source": [
    "all_sales"
   ]
  },
  {
   "cell_type": "markdown",
   "metadata": {},
   "source": [
    "## Make a dictionary"
   ]
  },
  {
   "cell_type": "code",
   "execution_count": null,
   "metadata": {},
   "outputs": [],
   "source": [
    "sales_by_type = {\n",
    "    'blonde': data.loc[data[\"bType\"].str.contains(\"Blonde\"), ['tStamp', 'qty']],\n",
    "    'chai': data.loc[data[\"bType\"].str.contains(\"Chai\"), ['tStamp', 'qty']],\n",
    "    'stout': data.loc[data[\"bType\"].str.contains(\"Stout\"), ['tStamp', 'qty']],\n",
    "    'kolsch': data.loc[data[\"bType\"].str.contains(\"Kolsch\"), ['tStamp', 'qty']],\n",
    "    'ipa': data.loc[data[\"bType\"].str.contains(\"IPA\"), ['tStamp', 'qty']],\n",
    "    'pale': data.loc[data[\"bType\"].str.contains(\"Pale\"), ['tStamp', 'qty']]\n",
    "}\n",
    "\n",
    "for tp in sales_by_type.keys():\n",
    "    sales_by_type[tp] = TimeTransformationList(sales_by_type[tp])\n",
    "\n",
    "sales_by_type_values = list(sales_by_type.values())\n",
    "sales_by_type_keys = list(sales_by_type.keys())\n",
    "sales_by_type_sizes = [len(ss) for ss in sales_by_type.values()]"
   ]
  },
  {
   "cell_type": "markdown",
   "metadata": {},
   "source": [
    "# Graphs and histograms\n",
    "## Histogram of \"all_sales\""
   ]
  },
  {
   "cell_type": "code",
   "execution_count": null,
   "metadata": {},
   "outputs": [],
   "source": [
    "output_dir = './06OCT2018ArmorOktoberfestOUT/'\n",
    "\n",
    "str_4_1 = \"There was a total of {} sales in {} hours.\"\n",
    "\n",
    "print(str_4_1.format(len_all_sales, 10))\n",
    "print()\n",
    "\n",
    "fig = plt.figure()\n",
    "plt.hist(all_sales, bins=20, range=(14, 24))\n",
    "\n",
    "plt.title(\"Frequency of sales in intervals of 30min\")\n",
    "\n",
    "plt.xlabel('Hour')\n",
    "plt.ylabel(\"Sale frequency\")\n",
    "\n",
    "plt.grid()\n",
    "plt.xlim(13.75, 24.25)\n",
    "plt.ylim(0, 26.5)\n",
    "\n",
    "fig.savefig(output_dir + 'TotalSales30Min.pdf')"
   ]
  },
  {
   "cell_type": "markdown",
   "metadata": {},
   "source": [
    "## Stacked histogram of \"all_sales\" by type"
   ]
  },
  {
   "cell_type": "code",
   "execution_count": null,
   "metadata": {},
   "outputs": [],
   "source": [
    "for kk in sales_by_type:\n",
    "    print(\"There were {} sales of {}.\".format(len(sales_by_type[kk]), kk))\n",
    "print()\n",
    "\n",
    "fig = plt.figure()\n",
    "plt.hist(sales_by_type_values,\n",
    "         bins=20,\n",
    "         histtype='barstacked',\n",
    "         range=(14, 24),\n",
    "         label=sales_by_type_keys)\n",
    "\n",
    "plt.title(\"Frequency of sales in intervals of 30min\")\n",
    "\n",
    "plt.ylabel('Frecuencia de venta por estilo')\n",
    "plt.xlabel('Hora')\n",
    "\n",
    "plt.grid()\n",
    "plt.xlim(13.75, 24.25)\n",
    "plt.ylim(0, 26.5)\n",
    "\n",
    "plt.legend()\n",
    "\n",
    "fig.savefig(output_dir + 'TotalSales30MinStacked.pdf')"
   ]
  },
  {
   "cell_type": "markdown",
   "metadata": {},
   "source": [
    "## Pie chart of sales by type"
   ]
  },
  {
   "cell_type": "code",
   "execution_count": null,
   "metadata": {},
   "outputs": [],
   "source": [
    "for kk in sales_by_type:\n",
    "    prntg = \"{0:.2f}\".format(len(sales_by_type[kk])/len(all_sales)*100.0)\n",
    "    print(\"{}% of all sales were for type {}.\".format(prntg, kk))\n",
    "print()\n",
    "\n",
    "fig = plt.figure()\n",
    "plt.pie(sales_by_type_sizes,\n",
    "        explode=[0.05*ii for ii in range(len(sales_by_type))],\n",
    "        labels=[ss.capitalize() for ss in sales_by_type_keys],\n",
    "        shadow=True,\n",
    "        autopct='%1.1f%%')\n",
    "\n",
    "plt.title('Total sales by type')\n",
    "fig.savefig(output_dir + 'TotalSalesPieChart.pdf')\n"
   ]
  },
  {
   "cell_type": "markdown",
   "metadata": {},
   "source": [
    "## All sales cumulative"
   ]
  },
  {
   "cell_type": "code",
   "execution_count": null,
   "metadata": {},
   "outputs": [],
   "source": [
    "fig = plt.figure()\n",
    "plt.hist(all_sales,\n",
    "         bins=20,\n",
    "         range=(14, 24),\n",
    "         cumulative=True)\n",
    "\n",
    "plt.title('Cumulative frequency of all sales')\n",
    "\n",
    "plt.xlabel('Hour')\n",
    "plt.ylabel('Frequency')\n",
    "\n",
    "plt.grid()\n",
    "fig.savefig(output_dir + 'TotalSalesCumulative.pdf')"
   ]
  },
  {
   "cell_type": "markdown",
   "metadata": {},
   "source": [
    "## All sales cumulative by type"
   ]
  },
  {
   "cell_type": "code",
   "execution_count": null,
   "metadata": {},
   "outputs": [],
   "source": [
    "# This is weird... what can be done to make it clearer?\n",
    "fig = plt.figure()\n",
    "plt.hist(sales_by_type_values,\n",
    "         label=sales_by_type_keys,\n",
    "         bins=20,\n",
    "         range=(14, 24),\n",
    "         cumulative=True)\n",
    "\n",
    "plt.title('Total cumulative sales by type')\n",
    "\n",
    "plt.xlabel('Hour')\n",
    "plt.ylabel('Frequency')\n",
    "\n",
    "plt.legend()\n",
    "plt.grid()\n",
    "fig.savefig(output_dir + 'TotalSalesCumulativeByType.pdf')"
   ]
  },
  {
   "cell_type": "markdown",
   "metadata": {},
   "source": [
    "## All sales cumulative stacked"
   ]
  },
  {
   "cell_type": "code",
   "execution_count": null,
   "metadata": {},
   "outputs": [],
   "source": [
    "fig = plt.figure()\n",
    "plt.hist(sales_by_type_values,\n",
    "         label=sales_by_type_keys,\n",
    "         bins=20,\n",
    "         range=(14, 24),\n",
    "         cumulative=True,\n",
    "         stacked=True)\n",
    "plt.title('Frecuencia cumulativa de todas las ventas encimado')\n",
    "plt.xlabel('Hora')\n",
    "plt.ylabel('Frecuencia')\n",
    "plt.legend()\n",
    "plt.grid()\n",
    "fig.savefig(output_dir + 'TotalSalesCumulativeStacked.pdf')"
   ]
  },
  {
   "cell_type": "code",
   "execution_count": null,
   "metadata": {},
   "outputs": [],
   "source": []
  }
 ],
 "metadata": {
  "kernelspec": {
   "display_name": "Python 3",
   "language": "python",
   "name": "python3"
  },
  "language_info": {
   "codemirror_mode": {
    "name": "ipython",
    "version": 3
   },
   "file_extension": ".py",
   "mimetype": "text/x-python",
   "name": "python",
   "nbconvert_exporter": "python",
   "pygments_lexer": "ipython3",
   "version": "3.8.5"
  }
 },
 "nbformat": 4,
 "nbformat_minor": 4
}
