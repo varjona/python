{
 "cells": [
  {
   "cell_type": "markdown",
   "id": "766eed4c",
   "metadata": {},
   "source": [
    "# Imports\n",
    "\n",
    "## We'll be using several packages to understand this dataset.\n",
    "\n",
    "### Pandas will help us to open the file and turn it into a Pandas DataFrame, allowing us to access, filter, and modify (clean) the dataset.\n",
    "### Matplotlib will help us visualize the data. Depending on what we want to see, we'll have to adjust our input variables and/or the plot that we need to use.\n",
    "### Numpy will help us manipulate the numerical values and apply operations and/or transformations to our dataset. Numpy also has some fun tools to get information out of data statim!"
   ]
  },
  {
   "cell_type": "code",
   "execution_count": 1,
   "id": "9188fb84",
   "metadata": {},
   "outputs": [],
   "source": [
    "import matplotlib.pyplot as plt\n",
    "import numpy as np\n",
    "import pandas as pd"
   ]
  },
  {
   "cell_type": "markdown",
   "id": "0435b3c6",
   "metadata": {},
   "source": [
    "## Define the location of the file. This could also be a URL to raw data!\n",
    "### If you have the file yourself, I'd recommend changing the `fake_data_path`."
   ]
  },
  {
   "cell_type": "code",
   "execution_count": 2,
   "id": "e26cbd92",
   "metadata": {},
   "outputs": [],
   "source": [
    "# The r\"\" means raw string.\n",
    "fake_data_path = r\"C:\\Users\\vargo\\codebase\\python\\data\\fake-data.csv\""
   ]
  },
  {
   "cell_type": "markdown",
   "id": "be8a1b78",
   "metadata": {},
   "source": [
    "## Now it's time to turn this CSV file into a Pandas DataFrame!\n",
    "### Though the name of the variable (ultimately a Pandas DataFrame object) could be anything, it is very normal to simply call it `df`.\n",
    "### Let's read the CSV file, turn it into a a Pandas DataFrame, and check out the first 5 rows (not including the column names).\n",
    "#### Often, though, we'll have issues in the intake of the file and could potentially end up with `NaN` values. I'd suggest checking out the file on either Microsoft Excel or LibreOffice Calc. Though potentially intimidating, this could be useful! It all depends on the context and what you want to do. There's also nothing stopping us from manipulating those `NaN` values."
   ]
  },
  {
   "cell_type": "code",
   "execution_count": 3,
   "id": "1ce04710",
   "metadata": {},
   "outputs": [
    {
     "data": {
      "text/html": [
       "<div>\n",
       "<style scoped>\n",
       "    .dataframe tbody tr th:only-of-type {\n",
       "        vertical-align: middle;\n",
       "    }\n",
       "\n",
       "    .dataframe tbody tr th {\n",
       "        vertical-align: top;\n",
       "    }\n",
       "\n",
       "    .dataframe thead th {\n",
       "        text-align: right;\n",
       "    }\n",
       "</style>\n",
       "<table border=\"1\" class=\"dataframe\">\n",
       "  <thead>\n",
       "    <tr style=\"text-align: right;\">\n",
       "      <th></th>\n",
       "      <th>Application ID</th>\n",
       "      <th>Application Date</th>\n",
       "      <th>Channel</th>\n",
       "      <th>Amount Requested</th>\n",
       "      <th>Risk Class</th>\n",
       "      <th>Decision</th>\n",
       "      <th>Decision Code</th>\n",
       "      <th>Outcome</th>\n",
       "      <th>Revenue/ (Loss)</th>\n",
       "    </tr>\n",
       "  </thead>\n",
       "  <tbody>\n",
       "    <tr>\n",
       "      <th>0</th>\n",
       "      <td>100000</td>\n",
       "      <td>12/1/2010</td>\n",
       "      <td>Online</td>\n",
       "      <td>$500</td>\n",
       "      <td>N</td>\n",
       "      <td>Decline</td>\n",
       "      <td>D</td>\n",
       "      <td>NaN</td>\n",
       "      <td>$-</td>\n",
       "    </tr>\n",
       "    <tr>\n",
       "      <th>1</th>\n",
       "      <td>100001</td>\n",
       "      <td>12/1/2010</td>\n",
       "      <td>Online</td>\n",
       "      <td>$300</td>\n",
       "      <td>N</td>\n",
       "      <td>Decline</td>\n",
       "      <td>D</td>\n",
       "      <td>NaN</td>\n",
       "      <td>$-</td>\n",
       "    </tr>\n",
       "    <tr>\n",
       "      <th>2</th>\n",
       "      <td>100002</td>\n",
       "      <td>12/1/2010</td>\n",
       "      <td>Online</td>\n",
       "      <td>$500</td>\n",
       "      <td>B</td>\n",
       "      <td>Decline</td>\n",
       "      <td>D</td>\n",
       "      <td>NaN</td>\n",
       "      <td>$-</td>\n",
       "    </tr>\n",
       "    <tr>\n",
       "      <th>3</th>\n",
       "      <td>100003</td>\n",
       "      <td>12/1/2010</td>\n",
       "      <td>Store</td>\n",
       "      <td>$500</td>\n",
       "      <td>B</td>\n",
       "      <td>Approve</td>\n",
       "      <td>S</td>\n",
       "      <td>Good = Pay</td>\n",
       "      <td>$50</td>\n",
       "    </tr>\n",
       "    <tr>\n",
       "      <th>4</th>\n",
       "      <td>100004</td>\n",
       "      <td>12/1/2010</td>\n",
       "      <td>Store</td>\n",
       "      <td>$500</td>\n",
       "      <td>N</td>\n",
       "      <td>Decline</td>\n",
       "      <td>D</td>\n",
       "      <td>NaN</td>\n",
       "      <td>$-</td>\n",
       "    </tr>\n",
       "  </tbody>\n",
       "</table>\n",
       "</div>"
      ],
      "text/plain": [
       "   Application ID Application Date Channel  Amount Requested  Risk Class  \\\n",
       "0          100000        12/1/2010  Online              $500           N   \n",
       "1          100001        12/1/2010  Online              $300           N   \n",
       "2          100002        12/1/2010  Online              $500           B   \n",
       "3          100003        12/1/2010   Store              $500           B   \n",
       "4          100004        12/1/2010   Store              $500           N   \n",
       "\n",
       "  Decision Decision Code     Outcome  Revenue/ (Loss)   \n",
       "0  Decline             D         NaN             $-     \n",
       "1  Decline             D         NaN             $-     \n",
       "2  Decline             D         NaN             $-     \n",
       "3  Approve             S  Good = Pay              $50   \n",
       "4  Decline             D         NaN             $-     "
      ]
     },
     "execution_count": 3,
     "metadata": {},
     "output_type": "execute_result"
    }
   ],
   "source": [
    "df = pd.read_csv(fake_data_path)\n",
    "df.head()"
   ]
  },
  {
   "cell_type": "markdown",
   "id": "e47f6876",
   "metadata": {},
   "source": [
    "## Let's see how we can navigate our DataFrame...\n",
    "### By column name: This'll output all the elements in the column. You can also specify what row to output!\n",
    "### By row number: This'll output all the elements in the row.\n",
    "### By using `loc`: More info [here](https://pandas.pydata.org/docs/reference/api/pandas.DataFrame.loc.html).\n",
    "### By using `iloc`: More info [here](https://pandas.pydata.org/docs/reference/api/pandas.DataFrame.iloc.html)."
   ]
  },
  {
   "cell_type": "code",
   "execution_count": 4,
   "id": "9b2d2f14",
   "metadata": {},
   "outputs": [
    {
     "data": {
      "text/plain": [
       "0      Online\n",
       "1      Online\n",
       "2      Online\n",
       "3       Store\n",
       "4       Store\n",
       "        ...  \n",
       "895    Online\n",
       "896    Online\n",
       "897    Online\n",
       "898    Online\n",
       "899    Online\n",
       "Name: Channel, Length: 900, dtype: object"
      ]
     },
     "execution_count": 4,
     "metadata": {},
     "output_type": "execute_result"
    }
   ],
   "source": [
    "# Entire column for \"Channel\"\n",
    "df['Channel']"
   ]
  },
  {
   "cell_type": "code",
   "execution_count": 7,
   "id": "70fa2eef",
   "metadata": {},
   "outputs": [
    {
     "data": {
      "text/plain": [
       "'Approve'"
      ]
     },
     "execution_count": 7,
     "metadata": {},
     "output_type": "execute_result"
    }
   ],
   "source": [
    "# The 3rd index (4th element/row) of the \"Decision\" column.\n",
    "df['Decision'][3]"
   ]
  },
  {
   "cell_type": "code",
   "execution_count": 10,
   "id": "ebf0ee77",
   "metadata": {},
   "outputs": [
    {
     "data": {
      "text/plain": [
       "Application ID           100004\n",
       "Application Date      12/1/2010\n",
       "Channel                   Store\n",
       " Amount Requested         $500 \n",
       "Risk Class                    N\n",
       "Decision                Decline\n",
       "Decision Code                 D\n",
       "Outcome                     NaN\n",
       " Revenue/ (Loss)          $-   \n",
       "Name: 4, dtype: object"
      ]
     },
     "execution_count": 10,
     "metadata": {},
     "output_type": "execute_result"
    }
   ],
   "source": [
    "# Entire 5th row.\n",
    "df.loc[4, :]"
   ]
  },
  {
   "cell_type": "code",
   "execution_count": 11,
   "id": "03766ccc",
   "metadata": {},
   "outputs": [
    {
     "data": {
      "text/html": [
       "<div>\n",
       "<style scoped>\n",
       "    .dataframe tbody tr th:only-of-type {\n",
       "        vertical-align: middle;\n",
       "    }\n",
       "\n",
       "    .dataframe tbody tr th {\n",
       "        vertical-align: top;\n",
       "    }\n",
       "\n",
       "    .dataframe thead th {\n",
       "        text-align: right;\n",
       "    }\n",
       "</style>\n",
       "<table border=\"1\" class=\"dataframe\">\n",
       "  <thead>\n",
       "    <tr style=\"text-align: right;\">\n",
       "      <th></th>\n",
       "      <th>Application Date</th>\n",
       "      <th>Channel</th>\n",
       "    </tr>\n",
       "  </thead>\n",
       "  <tbody>\n",
       "    <tr>\n",
       "      <th>5</th>\n",
       "      <td>12/1/2010</td>\n",
       "      <td>Online</td>\n",
       "    </tr>\n",
       "    <tr>\n",
       "      <th>6</th>\n",
       "      <td>12/1/2010</td>\n",
       "      <td>Store</td>\n",
       "    </tr>\n",
       "    <tr>\n",
       "      <th>7</th>\n",
       "      <td>12/1/2010</td>\n",
       "      <td>Online</td>\n",
       "    </tr>\n",
       "    <tr>\n",
       "      <th>8</th>\n",
       "      <td>12/1/2010</td>\n",
       "      <td>Store</td>\n",
       "    </tr>\n",
       "    <tr>\n",
       "      <th>9</th>\n",
       "      <td>12/1/2010</td>\n",
       "      <td>Online</td>\n",
       "    </tr>\n",
       "    <tr>\n",
       "      <th>10</th>\n",
       "      <td>12/1/2010</td>\n",
       "      <td>Store</td>\n",
       "    </tr>\n",
       "    <tr>\n",
       "      <th>11</th>\n",
       "      <td>12/1/2010</td>\n",
       "      <td>Online</td>\n",
       "    </tr>\n",
       "    <tr>\n",
       "      <th>12</th>\n",
       "      <td>12/1/2010</td>\n",
       "      <td>Online</td>\n",
       "    </tr>\n",
       "    <tr>\n",
       "      <th>13</th>\n",
       "      <td>12/1/2010</td>\n",
       "      <td>Store</td>\n",
       "    </tr>\n",
       "    <tr>\n",
       "      <th>14</th>\n",
       "      <td>12/1/2010</td>\n",
       "      <td>Online</td>\n",
       "    </tr>\n",
       "    <tr>\n",
       "      <th>15</th>\n",
       "      <td>12/1/2010</td>\n",
       "      <td>Store</td>\n",
       "    </tr>\n",
       "    <tr>\n",
       "      <th>16</th>\n",
       "      <td>12/1/2010</td>\n",
       "      <td>Online</td>\n",
       "    </tr>\n",
       "    <tr>\n",
       "      <th>17</th>\n",
       "      <td>12/2/2010</td>\n",
       "      <td>Online</td>\n",
       "    </tr>\n",
       "    <tr>\n",
       "      <th>18</th>\n",
       "      <td>12/2/2010</td>\n",
       "      <td>Store</td>\n",
       "    </tr>\n",
       "    <tr>\n",
       "      <th>19</th>\n",
       "      <td>12/2/2010</td>\n",
       "      <td>Online</td>\n",
       "    </tr>\n",
       "  </tbody>\n",
       "</table>\n",
       "</div>"
      ],
      "text/plain": [
       "   Application Date Channel\n",
       "5         12/1/2010  Online\n",
       "6         12/1/2010   Store\n",
       "7         12/1/2010  Online\n",
       "8         12/1/2010   Store\n",
       "9         12/1/2010  Online\n",
       "10        12/1/2010   Store\n",
       "11        12/1/2010  Online\n",
       "12        12/1/2010  Online\n",
       "13        12/1/2010   Store\n",
       "14        12/1/2010  Online\n",
       "15        12/1/2010   Store\n",
       "16        12/1/2010  Online\n",
       "17        12/2/2010  Online\n",
       "18        12/2/2010   Store\n",
       "19        12/2/2010  Online"
      ]
     },
     "execution_count": 11,
     "metadata": {},
     "output_type": "execute_result"
    }
   ],
   "source": [
    "# Rows index 5 through 20, not inclusive, and columns index 1 through 3, not inclusive.\n",
    "df.iloc[5:20, 1:3]"
   ]
  },
  {
   "cell_type": "code",
   "execution_count": 12,
   "id": "e811053b",
   "metadata": {},
   "outputs": [
    {
     "data": {
      "text/html": [
       "<div>\n",
       "<style scoped>\n",
       "    .dataframe tbody tr th:only-of-type {\n",
       "        vertical-align: middle;\n",
       "    }\n",
       "\n",
       "    .dataframe tbody tr th {\n",
       "        vertical-align: top;\n",
       "    }\n",
       "\n",
       "    .dataframe thead th {\n",
       "        text-align: right;\n",
       "    }\n",
       "</style>\n",
       "<table border=\"1\" class=\"dataframe\">\n",
       "  <thead>\n",
       "    <tr style=\"text-align: right;\">\n",
       "      <th></th>\n",
       "      <th>Application Date</th>\n",
       "      <th>Channel</th>\n",
       "    </tr>\n",
       "  </thead>\n",
       "  <tbody>\n",
       "    <tr>\n",
       "      <th>5</th>\n",
       "      <td>12/1/2010</td>\n",
       "      <td>Online</td>\n",
       "    </tr>\n",
       "    <tr>\n",
       "      <th>6</th>\n",
       "      <td>12/1/2010</td>\n",
       "      <td>Store</td>\n",
       "    </tr>\n",
       "    <tr>\n",
       "      <th>7</th>\n",
       "      <td>12/1/2010</td>\n",
       "      <td>Online</td>\n",
       "    </tr>\n",
       "    <tr>\n",
       "      <th>8</th>\n",
       "      <td>12/1/2010</td>\n",
       "      <td>Store</td>\n",
       "    </tr>\n",
       "    <tr>\n",
       "      <th>9</th>\n",
       "      <td>12/1/2010</td>\n",
       "      <td>Online</td>\n",
       "    </tr>\n",
       "    <tr>\n",
       "      <th>10</th>\n",
       "      <td>12/1/2010</td>\n",
       "      <td>Store</td>\n",
       "    </tr>\n",
       "    <tr>\n",
       "      <th>11</th>\n",
       "      <td>12/1/2010</td>\n",
       "      <td>Online</td>\n",
       "    </tr>\n",
       "    <tr>\n",
       "      <th>12</th>\n",
       "      <td>12/1/2010</td>\n",
       "      <td>Online</td>\n",
       "    </tr>\n",
       "    <tr>\n",
       "      <th>13</th>\n",
       "      <td>12/1/2010</td>\n",
       "      <td>Store</td>\n",
       "    </tr>\n",
       "    <tr>\n",
       "      <th>14</th>\n",
       "      <td>12/1/2010</td>\n",
       "      <td>Online</td>\n",
       "    </tr>\n",
       "    <tr>\n",
       "      <th>15</th>\n",
       "      <td>12/1/2010</td>\n",
       "      <td>Store</td>\n",
       "    </tr>\n",
       "    <tr>\n",
       "      <th>16</th>\n",
       "      <td>12/1/2010</td>\n",
       "      <td>Online</td>\n",
       "    </tr>\n",
       "    <tr>\n",
       "      <th>17</th>\n",
       "      <td>12/2/2010</td>\n",
       "      <td>Online</td>\n",
       "    </tr>\n",
       "    <tr>\n",
       "      <th>18</th>\n",
       "      <td>12/2/2010</td>\n",
       "      <td>Store</td>\n",
       "    </tr>\n",
       "    <tr>\n",
       "      <th>19</th>\n",
       "      <td>12/2/2010</td>\n",
       "      <td>Online</td>\n",
       "    </tr>\n",
       "  </tbody>\n",
       "</table>\n",
       "</div>"
      ],
      "text/plain": [
       "   Application Date Channel\n",
       "5         12/1/2010  Online\n",
       "6         12/1/2010   Store\n",
       "7         12/1/2010  Online\n",
       "8         12/1/2010   Store\n",
       "9         12/1/2010  Online\n",
       "10        12/1/2010   Store\n",
       "11        12/1/2010  Online\n",
       "12        12/1/2010  Online\n",
       "13        12/1/2010   Store\n",
       "14        12/1/2010  Online\n",
       "15        12/1/2010   Store\n",
       "16        12/1/2010  Online\n",
       "17        12/2/2010  Online\n",
       "18        12/2/2010   Store\n",
       "19        12/2/2010  Online"
      ]
     },
     "execution_count": 12,
     "metadata": {},
     "output_type": "execute_result"
    }
   ],
   "source": [
    "# Same as above, but using loc instead of iloc.\n",
    "columns_to_access = [\"Application Date\", \"Channel\"]\n",
    "df.loc[5:19, columns_to_access]"
   ]
  },
  {
   "cell_type": "code",
   "execution_count": 13,
   "id": "a742bcbc",
   "metadata": {},
   "outputs": [
    {
     "data": {
      "text/html": [
       "<div>\n",
       "<style scoped>\n",
       "    .dataframe tbody tr th:only-of-type {\n",
       "        vertical-align: middle;\n",
       "    }\n",
       "\n",
       "    .dataframe tbody tr th {\n",
       "        vertical-align: top;\n",
       "    }\n",
       "\n",
       "    .dataframe thead th {\n",
       "        text-align: right;\n",
       "    }\n",
       "</style>\n",
       "<table border=\"1\" class=\"dataframe\">\n",
       "  <thead>\n",
       "    <tr style=\"text-align: right;\">\n",
       "      <th></th>\n",
       "      <th>Application Date</th>\n",
       "      <th>Channel</th>\n",
       "    </tr>\n",
       "  </thead>\n",
       "  <tbody>\n",
       "    <tr>\n",
       "      <th>5</th>\n",
       "      <td>True</td>\n",
       "      <td>True</td>\n",
       "    </tr>\n",
       "    <tr>\n",
       "      <th>6</th>\n",
       "      <td>True</td>\n",
       "      <td>True</td>\n",
       "    </tr>\n",
       "    <tr>\n",
       "      <th>7</th>\n",
       "      <td>True</td>\n",
       "      <td>True</td>\n",
       "    </tr>\n",
       "    <tr>\n",
       "      <th>8</th>\n",
       "      <td>True</td>\n",
       "      <td>True</td>\n",
       "    </tr>\n",
       "    <tr>\n",
       "      <th>9</th>\n",
       "      <td>True</td>\n",
       "      <td>True</td>\n",
       "    </tr>\n",
       "    <tr>\n",
       "      <th>10</th>\n",
       "      <td>True</td>\n",
       "      <td>True</td>\n",
       "    </tr>\n",
       "    <tr>\n",
       "      <th>11</th>\n",
       "      <td>True</td>\n",
       "      <td>True</td>\n",
       "    </tr>\n",
       "    <tr>\n",
       "      <th>12</th>\n",
       "      <td>True</td>\n",
       "      <td>True</td>\n",
       "    </tr>\n",
       "    <tr>\n",
       "      <th>13</th>\n",
       "      <td>True</td>\n",
       "      <td>True</td>\n",
       "    </tr>\n",
       "    <tr>\n",
       "      <th>14</th>\n",
       "      <td>True</td>\n",
       "      <td>True</td>\n",
       "    </tr>\n",
       "    <tr>\n",
       "      <th>15</th>\n",
       "      <td>True</td>\n",
       "      <td>True</td>\n",
       "    </tr>\n",
       "    <tr>\n",
       "      <th>16</th>\n",
       "      <td>True</td>\n",
       "      <td>True</td>\n",
       "    </tr>\n",
       "    <tr>\n",
       "      <th>17</th>\n",
       "      <td>True</td>\n",
       "      <td>True</td>\n",
       "    </tr>\n",
       "    <tr>\n",
       "      <th>18</th>\n",
       "      <td>True</td>\n",
       "      <td>True</td>\n",
       "    </tr>\n",
       "    <tr>\n",
       "      <th>19</th>\n",
       "      <td>True</td>\n",
       "      <td>True</td>\n",
       "    </tr>\n",
       "  </tbody>\n",
       "</table>\n",
       "</div>"
      ],
      "text/plain": [
       "    Application Date  Channel\n",
       "5               True     True\n",
       "6               True     True\n",
       "7               True     True\n",
       "8               True     True\n",
       "9               True     True\n",
       "10              True     True\n",
       "11              True     True\n",
       "12              True     True\n",
       "13              True     True\n",
       "14              True     True\n",
       "15              True     True\n",
       "16              True     True\n",
       "17              True     True\n",
       "18              True     True\n",
       "19              True     True"
      ]
     },
     "execution_count": 13,
     "metadata": {},
     "output_type": "execute_result"
    }
   ],
   "source": [
    "# Clearly these are the same... so let's compare them!\n",
    "df.loc[5:19, [\"Application Date\", \"Channel\"]] == df.iloc[5:20, 1:3]"
   ]
  },
  {
   "cell_type": "markdown",
   "id": "8370bf36",
   "metadata": {},
   "source": [
    "## When we printed the head of our DataFrame we can get a glimpse of those pesky `NaN`s. Let's see what each column is composed of..."
   ]
  },
  {
   "cell_type": "code",
   "execution_count": 14,
   "id": "a7c66cc5",
   "metadata": {},
   "outputs": [
    {
     "data": {
      "text/plain": [
       "Application ID         int64\n",
       "Application Date      object\n",
       "Channel               object\n",
       " Amount Requested     object\n",
       "Risk Class            object\n",
       "Decision              object\n",
       "Decision Code         object\n",
       "Outcome               object\n",
       " Revenue/ (Loss)      object\n",
       "dtype: object"
      ]
     },
     "execution_count": 14,
     "metadata": {},
     "output_type": "execute_result"
    }
   ],
   "source": [
    "df.dtypes"
   ]
  },
  {
   "cell_type": "markdown",
   "id": "7d065f71",
   "metadata": {},
   "source": [
    "## So many \"object\" types! But do not freak out. As you can see in this [link](https://pandas.pydata.org/docs/reference/api/pandas.DataFrame.dtypes.html), columns with mixed types are stored with the object dtype.\n",
    "## Let's start cleaning our DataFrame, starting with the column names, AKA, headers."
   ]
  },
  {
   "cell_type": "code",
   "execution_count": 15,
   "id": "9a8c6699",
   "metadata": {},
   "outputs": [
    {
     "name": "stdout",
     "output_type": "stream",
     "text": [
      "Original column names: Application ID, Application Date, Channel,  Amount Requested , Risk Class, Decision, Decision Code, Outcome,  Revenue/ (Loss) \n",
      "Original number of columns: 9\n",
      "New column names: id, date, chnl, amt_reqtd, risk, dec, dec_code, out, rev_loss\n",
      "Number of columns: 9\n"
     ]
    }
   ],
   "source": [
    "# Old column names\n",
    "col_str = \", \".join(df.columns)\n",
    "col_size = len(df.columns)\n",
    "print(f\"Original column names: {col_str}\")\n",
    "print(f\"Original number of columns: {col_size}\")\n",
    "\n",
    "# List of new column names\n",
    "nu_columns = [\"id\", \"date\", \"chnl\", \"amt_reqtd\", \"risk\", \"dec\", \"dec_code\", \"out\", \"rev_loss\"]\n",
    "df.columns = nu_columns\n",
    "\n",
    "# New column names implemented\n",
    "col_str = \", \".join(df.columns)\n",
    "col_size = len(df.columns)\n",
    "print(f\"New column names: {col_str}\")\n",
    "print(f\"Number of columns: {col_size}\")"
   ]
  },
  {
   "cell_type": "markdown",
   "id": "82bd359d",
   "metadata": {},
   "source": [
    "## You can see that we explicitly said that the columns names (headers) will now equal to the list of new headers. Another way to do it is using the `rename` method for a DataFrame. You can find more detail [here](https://pandas.pydata.org/docs/reference/api/pandas.DataFrame.rename.html?highlight=rename#pandas.DataFrame.rename). Essentially, you make a dictionary where the keys are the original columns and the respective values are what will replace their respective key... but that's for another day!"
   ]
  },
  {
   "cell_type": "markdown",
   "id": "9caccfea",
   "metadata": {},
   "source": [
    "## Let's turn the `date` column from a string to a Datetime object. This allows us to manage dates, no strings attached! *badum-tss*"
   ]
  },
  {
   "cell_type": "code",
   "execution_count": 16,
   "id": "e91df743",
   "metadata": {},
   "outputs": [
    {
     "data": {
      "text/plain": [
       "id                    int64\n",
       "date         datetime64[ns]\n",
       "chnl                 object\n",
       "amt_reqtd            object\n",
       "risk                 object\n",
       "dec                  object\n",
       "dec_code             object\n",
       "out                  object\n",
       "rev_loss             object\n",
       "dtype: object"
      ]
     },
     "execution_count": 16,
     "metadata": {},
     "output_type": "execute_result"
    }
   ],
   "source": [
    "df['date'] = pd.to_datetime(df['date'])\n",
    "df.dtypes"
   ]
  },
  {
   "cell_type": "markdown",
   "id": "22a5ce99",
   "metadata": {},
   "source": [
    "## Using floats is always more useful than numerical strings... let's turn the elements in `amt_reqtd` into a float value!"
   ]
  },
  {
   "cell_type": "code",
   "execution_count": 20,
   "id": "147011c2",
   "metadata": {},
   "outputs": [
    {
     "ename": "AttributeError",
     "evalue": "'float' object has no attribute 'strip'",
     "output_type": "error",
     "traceback": [
      "\u001b[1;31m---------------------------------------------------------------------------\u001b[0m",
      "\u001b[1;31mAttributeError\u001b[0m                            Traceback (most recent call last)",
      "\u001b[1;32m<ipython-input-20-ff339cbc3a21>\u001b[0m in \u001b[0;36m<module>\u001b[1;34m\u001b[0m\n\u001b[1;32m----> 1\u001b[1;33m \u001b[0mnu_amt_reqtd\u001b[0m \u001b[1;33m=\u001b[0m \u001b[1;33m[\u001b[0m\u001b[0mfloat\u001b[0m\u001b[1;33m(\u001b[0m\u001b[0mamt\u001b[0m\u001b[1;33m.\u001b[0m\u001b[0mstrip\u001b[0m\u001b[1;33m(\u001b[0m\u001b[1;34m\" $\"\u001b[0m\u001b[1;33m)\u001b[0m\u001b[1;33m)\u001b[0m \u001b[1;32mfor\u001b[0m \u001b[0mamt\u001b[0m \u001b[1;32min\u001b[0m \u001b[0mdf\u001b[0m\u001b[1;33m[\u001b[0m\u001b[1;34m\"amt_reqtd\"\u001b[0m\u001b[1;33m]\u001b[0m\u001b[1;33m]\u001b[0m\u001b[1;33m\u001b[0m\u001b[1;33m\u001b[0m\u001b[0m\n\u001b[0m\u001b[0;32m      2\u001b[0m \u001b[0mdf\u001b[0m\u001b[1;33m[\u001b[0m\u001b[1;34m\"amt_reqtd\"\u001b[0m\u001b[1;33m]\u001b[0m \u001b[1;33m=\u001b[0m \u001b[0mnu_amt_reqtd\u001b[0m\u001b[1;33m\u001b[0m\u001b[1;33m\u001b[0m\u001b[0m\n\u001b[0;32m      3\u001b[0m \u001b[0mdf\u001b[0m\u001b[1;33m[\u001b[0m\u001b[1;34m\"amt_reqtd\"\u001b[0m\u001b[1;33m]\u001b[0m\u001b[1;33m\u001b[0m\u001b[1;33m\u001b[0m\u001b[0m\n\u001b[0;32m      4\u001b[0m \u001b[1;31m#df.dtypes\u001b[0m\u001b[1;33m\u001b[0m\u001b[1;33m\u001b[0m\u001b[1;33m\u001b[0m\u001b[0m\n",
      "\u001b[1;32m<ipython-input-20-ff339cbc3a21>\u001b[0m in \u001b[0;36m<listcomp>\u001b[1;34m(.0)\u001b[0m\n\u001b[1;32m----> 1\u001b[1;33m \u001b[0mnu_amt_reqtd\u001b[0m \u001b[1;33m=\u001b[0m \u001b[1;33m[\u001b[0m\u001b[0mfloat\u001b[0m\u001b[1;33m(\u001b[0m\u001b[0mamt\u001b[0m\u001b[1;33m.\u001b[0m\u001b[0mstrip\u001b[0m\u001b[1;33m(\u001b[0m\u001b[1;34m\" $\"\u001b[0m\u001b[1;33m)\u001b[0m\u001b[1;33m)\u001b[0m \u001b[1;32mfor\u001b[0m \u001b[0mamt\u001b[0m \u001b[1;32min\u001b[0m \u001b[0mdf\u001b[0m\u001b[1;33m[\u001b[0m\u001b[1;34m\"amt_reqtd\"\u001b[0m\u001b[1;33m]\u001b[0m\u001b[1;33m]\u001b[0m\u001b[1;33m\u001b[0m\u001b[1;33m\u001b[0m\u001b[0m\n\u001b[0m\u001b[0;32m      2\u001b[0m \u001b[0mdf\u001b[0m\u001b[1;33m[\u001b[0m\u001b[1;34m\"amt_reqtd\"\u001b[0m\u001b[1;33m]\u001b[0m \u001b[1;33m=\u001b[0m \u001b[0mnu_amt_reqtd\u001b[0m\u001b[1;33m\u001b[0m\u001b[1;33m\u001b[0m\u001b[0m\n\u001b[0;32m      3\u001b[0m \u001b[0mdf\u001b[0m\u001b[1;33m[\u001b[0m\u001b[1;34m\"amt_reqtd\"\u001b[0m\u001b[1;33m]\u001b[0m\u001b[1;33m\u001b[0m\u001b[1;33m\u001b[0m\u001b[0m\n\u001b[0;32m      4\u001b[0m \u001b[1;31m#df.dtypes\u001b[0m\u001b[1;33m\u001b[0m\u001b[1;33m\u001b[0m\u001b[1;33m\u001b[0m\u001b[0m\n",
      "\u001b[1;31mAttributeError\u001b[0m: 'float' object has no attribute 'strip'"
     ]
    }
   ],
   "source": [
    "nu_amt_reqtd = [float(amt.strip(\" $\")) for amt in df[\"amt_reqtd\"]]\n",
    "df[\"amt_reqtd\"] = nu_amt_reqtd\n",
    "df[\"amt_reqtd\"]\n",
    "#df.dtypes"
   ]
  },
  {
   "cell_type": "markdown",
   "id": "59375642",
   "metadata": {},
   "source": [
    "## Let's turn some strings into booleans... the Decision column (now `dec`) is composed of just Approve and Decline strings."
   ]
  },
  {
   "cell_type": "code",
   "execution_count": 21,
   "id": "8b5e3f9c",
   "metadata": {},
   "outputs": [
    {
     "data": {
      "text/plain": [
       "id                    int64\n",
       "date         datetime64[ns]\n",
       "chnl                 object\n",
       "amt_reqtd           float64\n",
       "risk                 object\n",
       "dec                    bool\n",
       "dec_code             object\n",
       "out                  object\n",
       "rev_loss             object\n",
       "dtype: object"
      ]
     },
     "execution_count": 21,
     "metadata": {},
     "output_type": "execute_result"
    }
   ],
   "source": [
    "nu_dec = [dec == \"Approve\" for dec in df[\"dec\"]]\n",
    "df[\"dec\"] = nu_dec\n",
    "df.dtypes"
   ]
  },
  {
   "cell_type": "markdown",
   "id": "1ba363b0",
   "metadata": {},
   "source": [
    "## Lowercase for the column `chnl`"
   ]
  },
  {
   "cell_type": "code",
   "execution_count": 22,
   "id": "8364ac06",
   "metadata": {},
   "outputs": [
    {
     "data": {
      "text/plain": [
       "id                    int64\n",
       "date         datetime64[ns]\n",
       "chnl                 object\n",
       "amt_reqtd           float64\n",
       "risk                 object\n",
       "dec                    bool\n",
       "dec_code             object\n",
       "out                  object\n",
       "rev_loss             object\n",
       "dtype: object"
      ]
     },
     "execution_count": 22,
     "metadata": {},
     "output_type": "execute_result"
    }
   ],
   "source": [
    "nu_chnl = [str(chnl).lower() for chnl in df['chnl']]\n",
    "df[\"chnl\"] = nu_chnl\n",
    "df.dtypes"
   ]
  },
  {
   "cell_type": "markdown",
   "id": "ec08db9c",
   "metadata": {},
   "source": [
    "## Turn the values in the Outcome column, now `out`, to `good`, `bad`, and `n/a`."
   ]
  },
  {
   "cell_type": "code",
   "execution_count": null,
   "id": "d34e2370",
   "metadata": {},
   "outputs": [],
   "source": [
    "strt_out = list(set(df[\"out\"]))\n",
    "out_map = {}\n",
    "\n",
    "for idx, out in enumerate(strt_out):\n",
    "    if type(out) == float:\n",
    "        out_map[out] = \"N/A\"\n",
    "    elif \"Bad\" in out:\n",
    "        out_map[out] = \"bad\"\n",
    "    elif \"Good\" in out:\n",
    "        out_map[out] = \"good\"\n",
    "\n",
    "df.replace({\"out\": out_map})"
   ]
  },
  {
   "cell_type": "markdown",
   "id": "b34055a0",
   "metadata": {},
   "source": [
    "## Turn the `rev_loss` to a float value. This one is tricky because we need to get rid of the dollar symbol and use some logic to make sure it's zero, positive, or negative. We'll use a function for this."
   ]
  },
  {
   "cell_type": "code",
   "execution_count": 23,
   "id": "fecbd496",
   "metadata": {},
   "outputs": [
    {
     "data": {
      "text/plain": [
       "id                    int64\n",
       "date         datetime64[ns]\n",
       "chnl                 object\n",
       "amt_reqtd           float64\n",
       "risk                 object\n",
       "dec                    bool\n",
       "dec_code             object\n",
       "out                  object\n",
       "rev_loss            float64\n",
       "dtype: object"
      ]
     },
     "execution_count": 23,
     "metadata": {},
     "output_type": "execute_result"
    }
   ],
   "source": [
    "def Rev_Loss(rl):\n",
    "    if rl == '-   ':\n",
    "        return 0\n",
    "    if '(' in rl:\n",
    "        return (-1)*float(rl[1:-1])\n",
    "    return float(rl)\n",
    "\n",
    "df[\"rev_loss\"] = [Rev_Loss(rl.split(' $')[1]) for rl in df.rev_loss]\n",
    "df.dtypes"
   ]
  },
  {
   "cell_type": "markdown",
   "id": "f2ce05ae",
   "metadata": {},
   "source": [
    "## Let's also get rid of the Application ID, now `id`, since it doesn't really do anything for us."
   ]
  },
  {
   "cell_type": "code",
   "execution_count": 25,
   "id": "2b2e2441",
   "metadata": {},
   "outputs": [
    {
     "data": {
      "text/plain": [
       "Index(['date', 'chnl', 'amt_reqtd', 'risk', 'dec', 'dec_code', 'out',\n",
       "       'rev_loss'],\n",
       "      dtype='object')"
      ]
     },
     "execution_count": 25,
     "metadata": {},
     "output_type": "execute_result"
    }
   ],
   "source": [
    "df = df.drop(\"id\", 1)\n",
    "\"id\" not in df.columns"
   ]
  },
  {
   "cell_type": "markdown",
   "id": "5d336521",
   "metadata": {},
   "source": [
    "## There are 3 amounts that are constantly requested: 200, 300, and 500 dlls. What's the frequency of these requests throughout the month of December?"
   ]
  },
  {
   "cell_type": "code",
   "execution_count": 26,
   "id": "339175af",
   "metadata": {},
   "outputs": [
    {
     "data": {
      "text/plain": [
       "Text(0, 0.5, 'Frequency')"
      ]
     },
     "execution_count": 26,
     "metadata": {},
     "output_type": "execute_result"
    },
    {
     "data": {
      "image/png": "[encoded data removed]",
      "text/plain": [
       "<Figure size 432x288 with 1 Axes>"
      ]
     },
     "metadata": {
      "needs_background": "light"
     },
     "output_type": "display_data"
    }
   ],
   "source": [
    "# There are 30 days in December, so let's make list with the values from 1 to 30.\n",
    "t = np.linspace(1, 30, 30)\n",
    "\n",
    "# We'll make a dictionary where the keys are the days of the month of December and the respective values are the frequency in that day.\n",
    "all_h = {}\n",
    "five_h = {}\n",
    "three_h = {}\n",
    "two_h = {}\n",
    "\n",
    "# Initialize the values for all values of \"t\"\n",
    "for tt in t:\n",
    "    all_h[tt] = 0\n",
    "    five_h[tt] = 0\n",
    "    three_h[tt] = 0\n",
    "    two_h[tt] = 0\n",
    "\n",
    "# Fill in values for 500dll frequency. Basically a counter.\n",
    "f_hold = df.loc[df[\"amt_reqtd\"] == 500, \"date\"]\n",
    "\n",
    "for ff in f_hold:\n",
    "    if ff.day in five_h:\n",
    "        five_h[ff.day] += 1\n",
    "        all_h[ff.day] += 1\n",
    "\n",
    "# Fill in values for 300dll frequency. Basically a counter.\n",
    "th_hold = df.loc[df[\"amt_reqtd\"] == 300, \"date\"]\n",
    "\n",
    "for th in th_hold:\n",
    "    if th.day in three_h:\n",
    "        three_h[th.day] += 1\n",
    "        all_h[th.day] += 1\n",
    "\n",
    "# Fill in values for 200dll frequency. Basically a counter.\n",
    "tw_hold = df.loc[df[\"amt_reqtd\"] == 200, \"date\"]\n",
    "\n",
    "for tw in tw_hold:\n",
    "    if tw.day in two_h:\n",
    "        two_h[tw.day] += 1\n",
    "        all_h[tw.day] += 1\n",
    "\n",
    "# Generate labels.\n",
    "lbl = [\"All\", \"Five hundred\", \"Three hundred\", \"Two hundred\"]\n",
    "\n",
    "# Start plotting!\n",
    "fig = plt.figure()\n",
    "plt.plot(all_h.keys(), all_h.values())\n",
    "plt.plot(five_h.keys(), five_h.values())\n",
    "plt.plot(three_h.keys(), three_h.values())\n",
    "plt.plot(two_h.keys(), two_h.values())\n",
    "plt.grid()\n",
    "plt.legend(lbl)\n",
    "plt.title(\"Frequency of applications in the month\")\n",
    "plt.xlabel(\"Day of the month (December)\")\n",
    "plt.ylabel(\"Frequency\")"
   ]
  },
  {
   "cell_type": "markdown",
   "id": "1eb73026",
   "metadata": {},
   "source": []
  }
 ],
 "metadata": {
  "kernelspec": {
   "display_name": "Python 3",
   "language": "python",
   "name": "python3"
  },
  "language_info": {
   "codemirror_mode": {
    "name": "ipython",
    "version": 3
   },
   "file_extension": ".py",
   "mimetype": "text/x-python",
   "name": "python",
   "nbconvert_exporter": "python",
   "pygments_lexer": "ipython3",
   "version": "3.8.8"
  }
 },
 "nbformat": 4,
 "nbformat_minor": 5
}
