{
 "cells": [
  {
   "cell_type": "markdown",
   "metadata": {},
   "source": [
    "# Imports"
   ]
  },
  {
   "cell_type": "code",
   "execution_count": 1,
   "metadata": {},
   "outputs": [],
   "source": [
    "import matplotlib.pyplot as plt\n",
    "import numpy as np"
   ]
  },
  {
   "cell_type": "markdown",
   "metadata": {},
   "source": [
    "# Newton's Method"
   ]
  },
  {
   "cell_type": "code",
   "execution_count": 2,
   "metadata": {},
   "outputs": [],
   "source": [
    "def NewtonMethod(x_start, y, f, Jf, eps):\n",
    "    '''          _______  _  _  __  ___\n",
    "                    |     |  |   |   +------> TODO: FILL IN DESCRIPTION\n",
    "                    |     |  |   +----------> THE JACOBIAN OF f\n",
    "                    |     |  +--------------> f:X->Y\n",
    "                    |     +-----------------> THE VALUE OF Y WE WANT TO APPROX\n",
    "                    +-----------------------> OUR FIRST APPROXIMATION/GUESS\n",
    "    '''\n",
    "    print(\"Newton Method starts NOW!\")\n",
    "    x_vals = [x_start]\n",
    "    y_vals = []\n",
    "    fx = f(x_start)\n",
    "    y_vals.append(fx)\n",
    "    print(str(x_start) + \"\\n\")\n",
    "    invJf = np.linalg.pinv(Jf(x_start))\n",
    "    '''\n",
    "     +-------------------------------> THE NEW APPROXIMATION\n",
    "     |        +----------------------> THE PREVIOUS INPUT VALUE\n",
    "     |        |        +-------------> THE INVERSE JACOBIAN SQUARE MATRIX\n",
    "     |        |        |     +-------> f EVALUATED AT THE PREVIOUS INPUT VALUE\n",
    "     |        |        |     |   +---> THE DESIRED OUPUT\n",
    "    _|__   ___|___   __|__  _|_ _|_\n",
    "    '''\n",
    "    nu_x = x_start - invJf@(fx - y)\n",
    "    fx = f(nu_x)\n",
    "    x_vals.append(nu_x)\n",
    "    y_vals.append(fx)\n",
    "    while np.linalg.norm(x_vals[-1] - x_vals[-2]) > eps:\n",
    "        pre_x = x_vals[-1]\n",
    "        fx = f(pre_x)\n",
    "        y_vals.append(fx)\n",
    "        invJf = np.linalg.pinv(Jf(pre_x))\n",
    "        x_vals.append(pre_x - invJf@(f(pre_x) - y))\n",
    "        print(str(x_vals[-1]) + \"\\n\")\n",
    "    return [x_vals, y_vals]"
   ]
  },
  {
   "cell_type": "code",
   "execution_count": null,
   "metadata": {},
   "outputs": [],
   "source": [
    "def SecantMethod(f, x_1, x_2, eps):\n",
    "    print(\"Secant Method starts NOW!\")\n",
    "    x_vals = [x_1, x_2]\n",
    "    y_vals = [f(x_1), f(x_2)]"
   ]
  }
 ],
 "metadata": {
  "kernelspec": {
   "display_name": "Python 3",
   "language": "python",
   "name": "python3"
  },
  "language_info": {
   "codemirror_mode": {
    "name": "ipython",
    "version": 3
   },
   "file_extension": ".py",
   "mimetype": "text/x-python",
   "name": "python",
   "nbconvert_exporter": "python",
   "pygments_lexer": "ipython3",
   "version": "3.8.5"
  }
 },
 "nbformat": 4,
 "nbformat_minor": 4
}
