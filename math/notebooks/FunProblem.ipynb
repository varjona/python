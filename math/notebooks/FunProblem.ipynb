{
 "cells": [
  {
   "cell_type": "markdown",
   "metadata": {},
   "source": [
    "# Imports"
   ]
  },
  {
   "cell_type": "code",
   "execution_count": 1,
   "metadata": {},
   "outputs": [],
   "source": [
    "import numpy as np\n",
    "import matplotlib.pyplot as plt\n",
    "import importlib\n",
    "Roots = importlib.import_module('Roots')"
   ]
  },
  {
   "cell_type": "markdown",
   "metadata": {},
   "source": [
    "# Function and Jacobian (Derivative)\n",
    "$\n",
    "\\begin{equation*}\n",
    "    \\left\\{\n",
    "        \\begin{alignedat}{3}\n",
    "            y&^{x^2+7x+12} & = & 1 \\\\\n",
    "            x& + y & = & 6\n",
    "        \\end{alignedat}\n",
    "    \\right.\n",
    "\\end{equation*}$\n",
    "\n",
    "$\n",
    "\\begin{equation*}\n",
    "    \\left\\{\n",
    "        \\begin{alignedat}{3}\n",
    "        \\end{alignedat}\n",
    "    \\right.\n",
    "\\end{equation*}$"
   ]
  },
  {
   "cell_type": "markdown",
   "metadata": {},
   "source": [
    "## The function of two variables\n",
    "### Takes a 2-D variable: \n",
    "$\n",
    "\\begin{align}\n",
    "    \\vec{v} &= \\begin{bmatrix}\n",
    "           x \\\\\n",
    "           y\n",
    "         \\end{bmatrix}\n",
    "  \\end{align}$"
   ]
  },
  {
   "cell_type": "code",
   "execution_count": 2,
   "metadata": {},
   "outputs": [],
   "source": [
    "def f(v):\n",
    "    x1 = complex(v[0])\n",
    "    x2 = complex(v[1])\n",
    "    y1 = np.power(x2, x1**2 + 7*x1 + 12)\n",
    "    y2 = x1 + x2\n",
    "    w = np.array([y1, y2])\n",
    "    w.shape = (2, 1)\n",
    "    return w"
   ]
  },
  {
   "cell_type": "markdown",
   "metadata": {},
   "source": [
    "## The Jacobian\n",
    "### Takes in a 2-D vector:"
   ]
  },
  {
   "cell_type": "code",
   "execution_count": 3,
   "metadata": {},
   "outputs": [],
   "source": [
    "    def Jf(v):\n",
    "        x = complex(v[0])\n",
    "        y = complex(v[1])\n",
    "        y_x = np.power(y, x**2 + 7*x + 12)\n",
    "        y_x_minus = np.power(y, x**2 + 7*x + 11)\n",
    "        r1 = [(2*x + 7)*y_x*np.log(y),\n",
    "              (x**2 + 7*x + 12)*y_x_minus]\n",
    "        r2 = [1, 1]\n",
    "        return np.array([r1, r2])"
   ]
  },
  {
   "cell_type": "code",
   "execution_count": 4,
   "metadata": {},
   "outputs": [],
   "source": [
    "    # THE TEST SYSTEM OF EQUATIONS IS...\n",
    "    #   +--\n",
    "    #   | y^{x**2 + 12*x + 7}   = 1\n",
    "    #  <\n",
    "    #   | x + y                 = 6\n",
    "    #   +--\n",
    "    #\n",
    "    #   ... SO WE'RE TRYING THE FIND THE VALUES OF \"x\" AND \"y\" THAT SATISFIES\n",
    "    #   THAT SYSTEM.\n",
    "    # WE KNOW THE (x, y) THAT SATISFY THIS SYSTEM OF EQUATIONS ARE...\n",
    "    # (5, 1)\n",
    "    # (-3, 9)\n",
    "    # (-4, 10)\n",
    "    def FunLinAlgProb(x_start, y, f, Jf, eps):\n",
    "        [x_vals, y_vals] = Roots.NewtonMethod(x_start, y, f, Jf, eps)\n",
    "        return [x_vals, y_vals]"
   ]
  },
  {
   "cell_type": "code",
   "execution_count": 5,
   "metadata": {},
   "outputs": [],
   "source": [
    "\n",
    "\n",
    "\n",
    "\n",
    "def PreProgrammedSols(idx, eps=0.0001):\n",
    "    # INDEX : INITIAL VECTOR\n",
    "    v_start = {1: np.array([[3.08], [2.2]]),       # (5, 1)\n",
    "               2: np.array([[-1.09], [7.8]]),      # (-3, 9)\n",
    "               3: np.array([[-3.75], [11]]),       # (-4, 10)\n",
    "               4: np.array([[7.4], [-1.314159]]),  # (7, -1)\n",
    "               5: np.array([[-5], [-5.0]]),        # (-5.19+1.52i, 11.19-1.52i)\n",
    "               6: np.array([[-10], [-8]]),         # (-6.12+2.37i, 12.12-2.37i)\n",
    "               7: np.array([[-10], [-10]]),        # (-5.55-1.86i, 11.55+1.86i)\n",
    "               8: np.array([[11], [-3.75]]),       # (6.82-0.26i, -0.82+0.26i)\n",
    "               9: np.array([[2.2], [-2.79]])}      # (6.82-0.26i, -0.82+0.26i)\n",
    "    #   BANTER\n",
    "    #    print(\"Our starting input value is\\n{}\\n\".format(v_start[idx]))\n",
    "    #   DESIRED OUTPUT VALUE, SHAPED AS A 2X1 VECTOR\n",
    "    want_val = np.array([1, 6])\n",
    "    want_val.shape = (2, 1)\n",
    "    #   BANTER\n",
    "    #    print(\"We want the output value\\n{}\\n\".format(want_val))\n",
    "    #    print(\"We'll approximate up to {} decimal points\\n\".format(eps))\n",
    "    #   THIS ROW GETS THE...\n",
    "    #\n",
    "    #  +-> INPUT SOLUTIONS...\n",
    "    #  |      +-> AND OUTPUT SOLUTIONS...\n",
    "    #  |      |\n",
    "    #  V      V\n",
    "    [x_sol, y_sol] = FunLinAlgProb(v_start[idx], want_val, f, Jf, eps)\n",
    "    #   EXTRACT ONLY THE REAL INPUT AND OUTPUT APPROXIMATIONS. IF x IS A\n",
    "    #   VECTOR, THEN IT IS A 2X1 VECTOR COMPOSED OF x1 AND x2, LIKE THIS...\n",
    "    #            _  _\n",
    "    #   ->      | x1 |\n",
    "    #   x   =   |_x2_|\n",
    "    #   TODO: USE NUMPY TO SIMPLIFY ALL OF THIS. FOR EXAMPLE, JUST\n",
    "    #   DO x_sol.real!\n",
    "    x1_vals = [x[0].real for x in x_sol]\n",
    "    x2_vals = [x[1].real for x in x_sol]\n",
    "    y1_vals = [y[0].real for y in y_sol]\n",
    "    y2_vals = [y[1].real for y in y_sol]\n",
    "    #   START PLOTTING\n",
    "    #   fig IS THE CANVAS...\n",
    "    #   axs REPRESENT THE GRAPH(S)...\n",
    "    #   IN THIS CASE, WE HAVE A FIGURE WITH 2 GRAPHS, AND IT'LL BE DRAWN AS A\n",
    "    #   SINGLE ROW WITH TWO PLOTS, SIDE BY SIDE (1X2 FIGURE VECTOR). THE ENTIRE\n",
    "    #   GRAPH WILL BE 11 UNITS IN LENGTH, AND 7 IN HEIGHT. THEY SEEMED LIKE\n",
    "    #   GOOD PRIME NUMBERS.\n",
    "    fig, axs = plt.subplots(1, 2, figsize=(11, 7))\n",
    "    #   THE FIRST PLOT WILL BE A VISUALIZATION OF THE INPUT SPACE SPACE'S REAL\n",
    "    #   VALUES. THERE WILL BE LABELS AND A TITLE.\n",
    "    axs[0].plot(x1_vals, x2_vals, 'ro-')\n",
    "    axs[0].grid()\n",
    "    axs[0].set(xlabel='x1-label', ylabel='x2-label')\n",
    "    axs[0].set_title(\"Input Space\")\n",
    "    #   SAME THING FOR THE OUTPUT SPACE.\n",
    "    axs[1].plot(y1_vals, y2_vals, 'b*-')\n",
    "    axs[1].grid()\n",
    "    axs[1].set(xlabel='y1-label', ylabel='y2-label')\n",
    "    axs[1].set_title(\"Output Space\")\n",
    "    #   FOR EVERY INPUT/OUTPUT PAIR IN OUR SOLUTIONS, ANNOTATE THE POINT IF IT\n",
    "    #   IS AN EVEN POSITION. I HOPE THAT MADE SENSE.\n",
    "    for ii in range(len(x_sol)):\n",
    "        if ii % 2 == 0:\n",
    "            axs[0].annotate(ii, (x1_vals[ii], x2_vals[ii]))\n",
    "            axs[1].annotate(ii, (y1_vals[ii], y2_vals[ii]))\n",
    "            #   PRINT OUT THE ACTUAL INPUT VALUE CLOSE TO OUR INITUAL GUESS.\n",
    "            #   EACH ELEMENT IN EACH VECTOR COULD BE A COMPLEX VALUE.\n",
    "    print('The solution is x1 = {}, x2 = {}'.format(x1_vals[-1], x2_vals[-1]))\n",
    "    #   RETURN THE SOLUTION\n",
    "    return [x_sol, y_sol]\n",
    "\n",
    "\n",
    "def CompareInOutSpaceCir(r, n_pts):\n",
    "    inp = []\n",
    "    out = []\n",
    "    for rad in np.linspace(0, 2*np.pi, n_pts):\n",
    "        v = np.array([[r*np.cos(rad)], [r*np.sin(rad)]])\n",
    "        inp.append(v)\n",
    "        out.append(f(v))\n",
    "    plt.plot([v[0].real for v in inp],\n",
    "             [v[1].real for v in inp])\n",
    "    plt.plot([v[0].real for v in out],\n",
    "             [v[1].real for v in out])\n",
    "    plt.grid()\n",
    "\n",
    "def CompareInOutSpaceSin(beta, n_pts):\n",
    "    inp = []\n",
    "    out = []\n",
    "    for rad in np.linspace(0, 2*np.pi, n_pts):\n",
    "        v = np.array([[rad], [np.sin(beta*rad)]])\n",
    "        inp.append(v)\n",
    "        out.append(f(v))\n",
    "    plt.plot([v[0].real for v in inp],\n",
    "             [v[1].real for v in inp])\n",
    "    plt.plot([v[0].real for v in out],\n",
    "             [v[1].real for v in out])\n",
    "    plt.grid()"
   ]
  },
  {
   "cell_type": "code",
   "execution_count": 6,
   "metadata": {},
   "outputs": [
    {
     "data": {
      "image/png": "[encoded data removed]",
      "text/plain": [
       "<Figure size 432x288 with 1 Axes>"
      ]
     },
     "metadata": {
      "needs_background": "light"
     },
     "output_type": "display_data"
    }
   ],
   "source": [
    "CompareInOutSpaceCir(1, 113)"
   ]
  },
  {
   "cell_type": "code",
   "execution_count": null,
   "metadata": {},
   "outputs": [],
   "source": []
  }
 ],
 "metadata": {
  "kernelspec": {
   "display_name": "Python 3",
   "language": "python",
   "name": "python3"
  },
  "language_info": {
   "codemirror_mode": {
    "name": "ipython",
    "version": 3
   },
   "file_extension": ".py",
   "mimetype": "text/x-python",
   "name": "python",
   "nbconvert_exporter": "python",
   "pygments_lexer": "ipython3",
   "version": "3.8.5"
  }
 },
 "nbformat": 4,
 "nbformat_minor": 4
}
