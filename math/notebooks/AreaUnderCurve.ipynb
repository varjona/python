{
 "cells": [
  {
   "cell_type": "markdown",
   "metadata": {},
   "source": [
    "# Imports"
   ]
  },
  {
   "cell_type": "code",
   "execution_count": 1,
   "metadata": {},
   "outputs": [],
   "source": [
    "import numpy as np\n",
    "import matplotlib.pyplot as plt"
   ]
  },
  {
   "cell_type": "code",
   "execution_count": null,
   "metadata": {},
   "outputs": [],
   "source": []
  },
  {
   "cell_type": "code",
   "execution_count": null,
   "metadata": {},
   "outputs": [],
   "source": []
  },
  {
   "cell_type": "code",
   "execution_count": 2,
   "metadata": {},
   "outputs": [],
   "source": [
    "def XInputs(x_lo, x_hi, no_rect, int_type='ms'):\n",
    "    x_inp = np.linspace(x_lo, x_hi, no_rect + 1)\n",
    "    if int_type == 'ms':\n",
    "        return 0.5*(x_inp[:-1] + x_inp[1:])\n",
    "    elif int_type == 'rs':\n",
    "        return x_inp[1:]\n",
    "    elif int_type == 'ls':\n",
    "        return x_inp[0:-1]\n",
    "    elif int_type == 'ts':\n",
    "        return x_inp"
   ]
  },
  {
   "cell_type": "code",
   "execution_count": 3,
   "metadata": {},
   "outputs": [],
   "source": [
    "def GetArea(dx, fx, int_type='ms'):\n",
    "    if int_type == 'ts':\n",
    "        area = []\n",
    "        for ii in range(len(fx) - 1):\n",
    "            f_lo = np.min(fx[ii:ii + 2])\n",
    "            f_hi = np.max(fx[ii:ii + 2])\n",
    "            area.append(f_lo + f_hi)\n",
    "        return 0.5*dx*np.sum(area)\n",
    "    else:\n",
    "        return dx*np.sum(fx)"
   ]
  },
  {
   "cell_type": "code",
   "execution_count": null,
   "metadata": {},
   "outputs": [],
   "source": [
    "def ReimannApprox(f, x_lo, x_hi, tol=0.0001, int_type='ms', plot=False):\n",
    "    # APPROXIMATIONS CONTAINER. THE FIRST ELEMENT IS ONE SQUARE... THE\n",
    "    # SECOND IS TWO... IN OTHER WORDS:\n",
    "    # INDEX         NO. RECT\n",
    "    # 0             1\n",
    "    # 1             2\n",
    "    # .             .\n",
    "    # .             .\n",
    "    # .             .\n",
    "    # N             N + 1\n",
    "    int_approx = []\n",
    "    # GENERATE FIRST TWO APPROXIMATIONS TO HAVE SOMETHING TO COMPARE TO\n",
    "    print('GENERATING FIRST TWO APPROXIMATIONS NOW:\\n\\n')\n",
    "    for ii in range(2):\n",
    "        dx = (x_hi - x_lo)/float((ii + 1))\n",
    "        fx = f(XInputs(x_lo, x_hi, ii + 1, int_type))\n",
    "        approx = GetArea(dx, fx, int_type)\n",
    "        print(str(ii + 1) + \" ---> \" + str(approx) + '\\n')\n",
    "        int_approx.append(approx)\n",
    "    # GENERATE THE Nth APPROXIMATION\n",
    "    no_rects = 3\n",
    "    print('GENERATING THE REST OF THE APPROXIMATIONS NOW:\\n\\n')\n",
    "    while (np.abs((int_approx[-1] - int_approx[-2])) > tol):\n",
    "        dx = (x_hi - x_lo)/float((no_rects))\n",
    "        fx = f(XInputs(x_lo, x_hi, no_rects, int_type))\n",
    "        approx = GetArea(dx, fx, int_type)\n",
    "        print(str(no_rects) + \" ---> \" + str(approx) + '\\n')\n",
    "        int_approx.append(approx)\n",
    "        no_rects += 1\n",
    "    no_rects -= 1\n",
    "    # PLOT\n",
    "    if plot:\n",
    "        plt.plot(np.asarray([ii for ii in range(1, len(int_approx) + 1)]),\n",
    "                 int_approx)\n",
    "        plt.grid(1)\n",
    "    return int_approx"
   ]
  }
 ],
 "metadata": {
  "kernelspec": {
   "display_name": "Python 3",
   "language": "python",
   "name": "python3"
  },
  "language_info": {
   "codemirror_mode": {
    "name": "ipython",
    "version": 3
   },
   "file_extension": ".py",
   "mimetype": "text/x-python",
   "name": "python",
   "nbconvert_exporter": "python",
   "pygments_lexer": "ipython3",
   "version": "3.8.5"
  }
 },
 "nbformat": 4,
 "nbformat_minor": 4
}
