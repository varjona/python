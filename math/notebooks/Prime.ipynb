{
 "cells": [
  {
   "cell_type": "markdown",
   "metadata": {},
   "source": [
    "# Imports"
   ]
  },
  {
   "cell_type": "code",
   "execution_count": 5,
   "metadata": {},
   "outputs": [],
   "source": [
    "import numpy as np\n",
    "import matplotlib.pyplot as plt"
   ]
  },
  {
   "cell_type": "markdown",
   "metadata": {},
   "source": [
    "# Algorithm to check whether something's a prime or not\n",
    "## Prime check takes in arguments:\n",
    "### someN (int) - the number we want to check to see whether it is a prime or not\n",
    "### opt_p_check (bool) - a boolean asking whether we want the optimized version of the algorithm; set True by default"
   ]
  },
  {
   "cell_type": "code",
   "execution_count": 6,
   "metadata": {},
   "outputs": [],
   "source": [
    "def PrimeCheck(someN, opt_p_check=True):\n",
    "    if opt_p_check:\n",
    "        up_to = int(np.sqrt(someN)) + 1\n",
    "    else:\n",
    "        up_to = someN\n",
    "    for kk in range(2, up_to):\n",
    "        if someN % kk == 0:\n",
    "            return False\n",
    "    return True"
   ]
  },
  {
   "cell_type": "markdown",
   "metadata": {},
   "source": [
    "# Generates a list of prime numbers\n",
    "## PrimeGen takes in two arguments:\n",
    "### n (int) - the number we want to check up to to for pime numbers\n",
    "### opt_p_check (bool) - a boolean asking whether we want the optimized version of the algorithm; set True by default"
   ]
  },
  {
   "cell_type": "code",
   "execution_count": 7,
   "metadata": {},
   "outputs": [],
   "source": [
    "def PrimeGen(n, opt_p_check=True):\n",
    "    if n < 2:\n",
    "        strg = 'Prime numbers are natural numbers greater than 1.'\n",
    "        print(strg)\n",
    "        return 0\n",
    "    if n == 2:\n",
    "        return [2]\n",
    "    primeLst = [2]\n",
    "    for ii in range(3, n + 1, 2):\n",
    "        if PrimeCheck(ii, opt_p_check):\n",
    "            primeLst.append(ii)\n",
    "    return primeLst"
   ]
  },
  {
   "cell_type": "markdown",
   "metadata": {},
   "source": [
    "# PrimePlot plots the output of PrimeGen"
   ]
  },
  {
   "cell_type": "code",
   "execution_count": 26,
   "metadata": {},
   "outputs": [],
   "source": [
    "def PrimePlot(n, opt_p_check=True, rtrn_lst=False):\n",
    "    primeLst = PrimeGen(n, opt_p_check)\n",
    "#                        +--> FROM THE VALUE 1...\n",
    "#                        |           +--> TO SIZE OF LIST...\n",
    "#                       _|_ _________|________\n",
    "    nthPrime = np.arange(1, len(primeLst) + 1)\n",
    "    plt.plot(nthPrime, primeLst)\n",
    "    plt.style.use(['dark_background'])\n",
    "    plt.grid()\n",
    "    plt.ylabel('Prime', color='w')\n",
    "    plt.xlabel('Index of prime', color='w')\n",
    "    plt.title('Prime plot', color='w')\n",
    "    if rtrn_lst:\n",
    "        return primeLst"
   ]
  },
  {
   "cell_type": "code",
   "execution_count": 27,
   "metadata": {},
   "outputs": [
    {
     "name": "stdout",
     "output_type": "stream",
     "text": [
      "Is number 3 a prime? True\n",
      "Is number 20 a prime? False\n"
     ]
    }
   ],
   "source": [
    "b_1 = PrimeCheck(3)\n",
    "b_2 = PrimeCheck(20)\n",
    "print(\"Is number 3 a prime? {}\".format(b_1))\n",
    "print(\"Is number 20 a prime? {}\".format(b_2))"
   ]
  },
  {
   "cell_type": "code",
   "execution_count": 28,
   "metadata": {},
   "outputs": [
    {
     "name": "stdout",
     "output_type": "stream",
     "text": [
      "[2, 3, 5, 7, 11, 13, 17, 19, 23, 29, 31, 37, 41, 43, 47, 53, 59, 61, 67, 71, 73, 79, 83, 89, 97]\n"
     ]
    }
   ],
   "source": [
    "lst = PrimeGen(100)\n",
    "print(lst)"
   ]
  },
  {
   "cell_type": "code",
   "execution_count": 29,
   "metadata": {},
   "outputs": [
    {
     "data": {
      "image/png": "[encoded data removed]",
      "text/plain": [
       "<Figure size 432x288 with 1 Axes>"
      ]
     },
     "metadata": {},
     "output_type": "display_data"
    }
   ],
   "source": [
    "PrimePlot(100)"
   ]
  },
  {
   "cell_type": "code",
   "execution_count": null,
   "metadata": {},
   "outputs": [],
   "source": []
  }
 ],
 "metadata": {
  "kernelspec": {
   "display_name": "Python 3",
   "language": "python",
   "name": "python3"
  },
  "language_info": {
   "codemirror_mode": {
    "name": "ipython",
    "version": 3
   },
   "file_extension": ".py",
   "mimetype": "text/x-python",
   "name": "python",
   "nbconvert_exporter": "python",
   "pygments_lexer": "ipython3",
   "version": "3.8.5"
  }
 },
 "nbformat": 4,
 "nbformat_minor": 4
}
